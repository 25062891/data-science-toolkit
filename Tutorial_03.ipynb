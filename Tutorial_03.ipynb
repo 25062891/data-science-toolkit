{
  "nbformat": 4,
  "nbformat_minor": 0,
  "metadata": {
    "colab": {
      "provenance": [],
      "authorship_tag": "ABX9TyP2Z6GYgfOs/UZcMAuwBxBh",
      "include_colab_link": true
    },
    "kernelspec": {
      "name": "python3",
      "display_name": "Python 3"
    },
    "language_info": {
      "name": "python"
    }
  },
  "cells": [
    {
      "cell_type": "markdown",
      "metadata": {
        "id": "view-in-github",
        "colab_type": "text"
      },
      "source": [
        "<a href=\"https://colab.research.google.com/github/25062891/data-science-toolkit/blob/main/Tutorial_03.ipynb\" target=\"_parent\"><img src=\"https://colab.research.google.com/assets/colab-badge.svg\" alt=\"Open In Colab\"/></a>"
      ]
    },
    {
      "cell_type": "code",
      "source": [
        "import numpy as np"
      ],
      "metadata": {
        "id": "JKfgHt_eOWjl"
      },
      "execution_count": null,
      "outputs": []
    },
    {
      "cell_type": "code",
      "source": [
        "n1=np.array([[1,2],[3,4]])\n",
        "print(n1)"
      ],
      "metadata": {
        "colab": {
          "base_uri": "https://localhost:8080/"
        },
        "id": "i-ZmoFIsOZ0q",
        "outputId": "859bd781-dc18-4263-fd8c-0b397d95bb88"
      },
      "execution_count": null,
      "outputs": [
        {
          "output_type": "stream",
          "name": "stdout",
          "text": [
            "[[1 2]\n",
            " [3 4]]\n"
          ]
        }
      ]
    },
    {
      "cell_type": "code",
      "source": [
        "n2=np.random.random((3,4))\n",
        "print(n2)"
      ],
      "metadata": {
        "colab": {
          "base_uri": "https://localhost:8080/"
        },
        "id": "cU9-s1-5O27Y",
        "outputId": "d21688bf-14be-4e02-d570-e2ed44ce8c35"
      },
      "execution_count": null,
      "outputs": [
        {
          "output_type": "stream",
          "name": "stdout",
          "text": [
            "[[0.11240151 0.46965527 0.89731129 0.47861074]\n",
            " [0.42024544 0.07286644 0.724553   0.66730864]\n",
            " [0.54667395 0.71475126 0.31152045 0.85243338]]\n"
          ]
        }
      ]
    },
    {
      "cell_type": "code",
      "source": [
        "n3=np.ones((2,2))\n",
        "print(n3)"
      ],
      "metadata": {
        "colab": {
          "base_uri": "https://localhost:8080/"
        },
        "id": "l-cN2urCPJWy",
        "outputId": "1577d4a9-4217-4f8e-e394-0fa580dcc540"
      },
      "execution_count": null,
      "outputs": [
        {
          "output_type": "stream",
          "name": "stdout",
          "text": [
            "[[1. 1.]\n",
            " [1. 1.]]\n"
          ]
        }
      ]
    },
    {
      "cell_type": "code",
      "source": [
        "n4=np.zeros((2,2))\n",
        "print(n4)"
      ],
      "metadata": {
        "colab": {
          "base_uri": "https://localhost:8080/"
        },
        "id": "vIeSH-xLPzS6",
        "outputId": "0435518d-6727-4479-d9ec-c5c3550f8b7b"
      },
      "execution_count": null,
      "outputs": [
        {
          "output_type": "stream",
          "name": "stdout",
          "text": [
            "[[0. 0.]\n",
            " [0. 0.]]\n"
          ]
        }
      ]
    },
    {
      "cell_type": "code",
      "source": [
        "n5=np.random.random((6,3))\n",
        "print(n5)\n",
        "n5_transpoed=n5.transpose()\n",
        "print(n5_transpoed,n5_transpoed.shape)"
      ],
      "metadata": {
        "colab": {
          "base_uri": "https://localhost:8080/"
        },
        "id": "gDiglz2PP7wy",
        "outputId": "da4aaa89-0957-4a38-b416-284eadab338f"
      },
      "execution_count": null,
      "outputs": [
        {
          "output_type": "stream",
          "name": "stdout",
          "text": [
            "[[0.43692896 0.89110697 0.72300586]\n",
            " [0.91107136 0.0560107  0.77352834]\n",
            " [0.199688   0.37882234 0.17092987]\n",
            " [0.70875122 0.46040061 0.9337456 ]\n",
            " [0.35581588 0.34493334 0.85499689]\n",
            " [0.50953342 0.70960753 0.1577913 ]]\n",
            "[[0.43692896 0.91107136 0.199688   0.70875122 0.35581588 0.50953342]\n",
            " [0.89110697 0.0560107  0.37882234 0.46040061 0.34493334 0.70960753]\n",
            " [0.72300586 0.77352834 0.17092987 0.9337456  0.85499689 0.1577913 ]] (3, 6)\n"
          ]
        }
      ]
    },
    {
      "cell_type": "code",
      "source": [
        "n6=np.random.random((5,6))\n",
        "n7=np.random.random((6,7))\n",
        "dot_product=np.dot(n6, n7)\n",
        "print(dot_product)"
      ],
      "metadata": {
        "colab": {
          "base_uri": "https://localhost:8080/"
        },
        "id": "3ckfU8sHOOea",
        "outputId": "4c109a8f-4130-4273-ad29-61cc854d7157"
      },
      "execution_count": null,
      "outputs": [
        {
          "output_type": "stream",
          "name": "stdout",
          "text": [
            "[[1.81353975 1.41533604 0.83177829 1.12628215 2.1044559  1.12273028\n",
            "  0.8931939 ]\n",
            " [1.45921588 1.24058448 1.0569075  1.52868053 1.87104307 1.00571082\n",
            "  0.92083056]\n",
            " [1.79505966 2.21906592 1.21469891 2.01953788 2.7004204  0.98566963\n",
            "  1.51950867]\n",
            " [1.41064091 1.32023212 0.79136058 1.29717349 1.80865342 0.94656565\n",
            "  0.95598709]\n",
            " [2.45557699 2.66846502 1.28803561 2.25091426 3.37120809 1.51274829\n",
            "  1.91605683]]\n"
          ]
        }
      ]
    }
  ]
}